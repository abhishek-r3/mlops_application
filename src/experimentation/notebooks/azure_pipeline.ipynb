{
 "cells": [
  {
   "cell_type": "code",
   "execution_count": 4,
   "metadata": {},
   "outputs": [
    {
     "name": "stdout",
     "output_type": "stream",
     "text": [
      "Sucessfully loaded workspace :  mlops_team_mlw_app\n",
      "Registering Model To Azure Cloud.....\n",
      "Registering model rf_clf_drug_persistecy_model\n",
      "Sucessfully registerd model :  rf_clf_drug_persistecy_model\n",
      "Sucessfully loaded workspace :  mlops_team_mlw_app\n",
      "{0: ['rf_clf_drug_persistecy_model', 2], 1: ['rf_clf_drug_persistecy_model', 1], 2: ['drug_persistecy_model', 4], 3: ['drug_persistecy_model', 3], 4: ['drug_persistecy_model', 2], 5: ['drug_persistecy_model', 1]}\n"
     ]
    }
   ],
   "source": [
    "#Test azure models utility\n",
    "\n",
    "model_path = \"C:/Users/RW137NS/work/research/mlops/mlops_application/src/experimentation/models/rfrandomisedscv.pkl\"\n",
    "model_name = \"rf_clf_drug_persistecy_model\"\n",
    "\n",
    "workspace_name=\"mlops_team_mlw_app\"\n",
    "subscription_id=\"7427803d-97a5-4cb2-9973-974a20bf6aa5\"\n",
    "resource_group=\"mlops_team_mlw\"\n",
    "\n",
    "from services.mlservice.azure_ml.azure_models.models import start_model_registration, get_list_of_models_in_workspace \n",
    "#test registration\n",
    "print(\"\\n\\nRUNNING MODEL REGISTRATION............\")\n",
    "registred_model = start_model_registration(workspace_name, \n",
    "                                           subscription_id, \n",
    "                                           resource_group, \n",
    "                                           model_name, \n",
    "                                           model_path,)\n",
    "#test listing of models\n",
    "print(\"\\n\\nRUNNING MODEL LISTING............\")\n",
    "print(get_list_of_models_in_workspace(workspace_name, \n",
    "                                      subscription_id, \n",
    "                                       resource_group,)\n",
    "    )"
   ]
  },
  {
   "cell_type": "code",
   "execution_count": 3,
   "metadata": {},
   "outputs": [
    {
     "data": {
      "text/plain": [
       "b'<html>\\n    <body>\\n        \\n        <center>\\n            <H1> Drug Persitency Prediction</H1>\\n            <br><br><br>\\n\\n            <table border=2>\\n                <tr>\\n                    <th>DESCRIPTION</th>\\n                    <td>VALUE</td>\\n                </tr>\\n                \\n            </table><br><br><br>\\n            <button><a href=\"http://127.0.0.1:5000\" align=\"left\">GO TO HOME</button>\\n        </center>\\n    </body>\\n</html>'"
      ]
     },
     "execution_count": 3,
     "metadata": {},
     "output_type": "execute_result"
    }
   ],
   "source": [
    "# Test docker application\n",
    "import requests\n",
    "import json\n",
    "\n",
    "data = {\"data\" : [{\"a\" : 10}]}\n",
    "data = json.dumps(data)\n",
    "\n",
    "url = \"http://127.0.0.1:5000/predict\"\n",
    "\n",
    "response = requests.post(url, data)\n",
    "response.content"
   ]
  },
  {
   "cell_type": "code",
   "execution_count": null,
   "metadata": {},
   "outputs": [],
   "source": []
  }
 ],
 "metadata": {
  "kernelspec": {
   "display_name": "Python 3.8.0 64-bit",
   "language": "python",
   "name": "python3"
  },
  "language_info": {
   "codemirror_mode": {
    "name": "ipython",
    "version": 3
   },
   "file_extension": ".py",
   "mimetype": "text/x-python",
   "name": "python",
   "nbconvert_exporter": "python",
   "pygments_lexer": "ipython3",
   "version": "3.8.0"
  },
  "orig_nbformat": 4,
  "vscode": {
   "interpreter": {
    "hash": "8137bb3e987f8ba725093f630efe6871003d78522588d8373414afde1c5bd85d"
   }
  }
 },
 "nbformat": 4,
 "nbformat_minor": 2
}
